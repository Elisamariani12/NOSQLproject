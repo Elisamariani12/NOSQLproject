{
 "cells": [
  {
   "cell_type": "code",
   "execution_count": 1,
   "metadata": {},
   "outputs": [],
   "source": [
    "from institution import Institution, HealthServiceHubs\n",
    "from utility import DBJsonWriter"
   ]
  },
  {
   "cell_type": "code",
   "execution_count": 2,
   "metadata": {},
   "outputs": [],
   "source": [
    "i1 = Institution.random()"
   ]
  },
  {
   "cell_type": "code",
   "execution_count": 3,
   "metadata": {},
   "outputs": [
    {
     "data": {
      "text/plain": [
       "'{\"name\": \"Spazio Aimo Pozzi\", \"location\": {\"city\": \"Bologna\", \"address\": \"Via GIOVANNI PAISIELLO, 44\", \"latitude\": -50.69753008687063, \"longitude\": -138.9777434765766}, \"entity_type\": \"Spazio\", \"supervisor\": {\"first_name\": \"Osiria\", \"last_name\": \"Tarani\"}, \"vaccine_issuing_department\": \"Dipartimento Sanitario\", \"institution_id\": \"SpazioAimoPozzi06975\"}'"
      ]
     },
     "execution_count": 3,
     "metadata": {},
     "output_type": "execute_result"
    }
   ],
   "source": [
    "i1.toStringDict()"
   ]
  },
  {
   "cell_type": "code",
   "execution_count": 4,
   "metadata": {},
   "outputs": [],
   "source": [
    "from utility import DBJsonWriter"
   ]
  },
  {
   "cell_type": "code",
   "execution_count": 5,
   "metadata": {},
   "outputs": [],
   "source": [
    "DBJsonWriter.toFile(\"inst.json\", i1.toStringDict())"
   ]
  },
  {
   "cell_type": "code",
   "execution_count": 6,
   "metadata": {},
   "outputs": [],
   "source": [
    "hsb = HealthServiceHubs(10)"
   ]
  },
  {
   "cell_type": "code",
   "execution_count": 7,
   "metadata": {},
   "outputs": [],
   "source": [
    "DBJsonWriter.collectionToFile(\"hubs.json\", hsb)"
   ]
  },
  {
   "cell_type": "code",
   "execution_count": 2,
   "metadata": {},
   "outputs": [],
   "source": [
    "hsb2 = HealthServiceHubs(30)\n",
    "DBJsonWriter.collectionToFile(\"medical_institutions.json\", hsb2)"
   ]
  },
  {
   "cell_type": "code",
   "execution_count": 1,
   "metadata": {},
   "outputs": [],
   "source": [
    "from institution import HealthServiceHubs\n",
    "from certificate import MedicalHistory\n",
    "from person import PersonDetailed, Population"
   ]
  },
  {
   "cell_type": "code",
   "execution_count": 2,
   "metadata": {},
   "outputs": [],
   "source": [
    "hsb1 = HealthServiceHubs(10)\n",
    "pop1 = Population(5,5,5)\n",
    "mh1 = MedicalHistory(pop1.detailedPeople[0], hsb1, pop1.healthServiceOperators)"
   ]
  },
  {
   "cell_type": "code",
   "execution_count": 4,
   "metadata": {},
   "outputs": [
    {
     "data": {
      "text/plain": [
       "{'vaccineHub': <institution.Institution at 0x10566a290>,\n",
       " 'registry': <person.PersonDetailed at 0x10566a170>,\n",
       " 'vaccineDoses': 2,\n",
       " 'testCount': 4,\n",
       " 'healthServiceOperators': [<person.HealthServiceOperator at 0x105669ed0>,\n",
       "  <person.HealthServiceOperator at 0x105669e70>,\n",
       "  <person.HealthServiceOperator at 0x105669e10>,\n",
       "  <person.HealthServiceOperator at 0x105669db0>,\n",
       "  <person.HealthServiceOperator at 0x105669d50>],\n",
       " 'vaccinations': None,\n",
       " 'tests': None}"
      ]
     },
     "execution_count": 4,
     "metadata": {},
     "output_type": "execute_result"
    }
   ],
   "source": [
    "mh1.__dict__"
   ]
  },
  {
   "cell_type": "code",
   "execution_count": null,
   "metadata": {},
   "outputs": [],
   "source": []
  }
 ],
 "metadata": {
  "interpreter": {
   "hash": "aee8b7b246df8f9039afb4144a1f6fd8d2ca17a180786b69acc140d282b71a49"
  },
  "kernelspec": {
   "display_name": "Python 3.10.0 64-bit",
   "language": "python",
   "name": "python3"
  },
  "language_info": {
   "codemirror_mode": {
    "name": "ipython",
    "version": 3
   },
   "file_extension": ".py",
   "mimetype": "text/x-python",
   "name": "python",
   "nbconvert_exporter": "python",
   "pygments_lexer": "ipython3",
   "version": "3.10.0"
  },
  "orig_nbformat": 4
 },
 "nbformat": 4,
 "nbformat_minor": 2
}
