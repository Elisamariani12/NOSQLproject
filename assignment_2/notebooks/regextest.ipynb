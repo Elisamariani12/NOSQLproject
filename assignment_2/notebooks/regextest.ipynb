{
 "cells": [
  {
   "cell_type": "code",
   "execution_count": 2,
   "metadata": {},
   "outputs": [],
   "source": [
    "import re\n",
    "import json\n",
    "from date import Date"
   ]
  },
  {
   "cell_type": "code",
   "execution_count": 3,
   "metadata": {},
   "outputs": [],
   "source": [
    "reToken = r\"(\\\"(ISODate)(\\('[1234567890-]*'\\))\\\")\"\n",
    "pattern = re.compile(reToken)"
   ]
  },
  {
   "cell_type": "code",
   "execution_count": 4,
   "metadata": {},
   "outputs": [],
   "source": [
    "from date import Date\n",
    "dates = dict()\n",
    "for x in range(1,10):\n",
    "    dates[f\"date_{x}\"] = Date.generate_random().isoString()\n",
    "j = json.dumps(dates)"
   ]
  },
  {
   "cell_type": "code",
   "execution_count": 5,
   "metadata": {},
   "outputs": [
    {
     "data": {
      "text/plain": [
       "('\"ISODate(\\'1927-09-05\\')\"',\n",
       " '\"ISODate(\\'1927-09-05\\')\"',\n",
       " <re.Match object; span=(11, 34), match='\"ISODate(\\'1927-09-05\\')\"'>)"
      ]
     },
     "execution_count": 5,
     "metadata": {},
     "output_type": "execute_result"
    }
   ],
   "source": [
    "m = re.search(pattern, j)\n",
    "m.group(0), m.group(1), m"
   ]
  },
  {
   "cell_type": "code",
   "execution_count": 6,
   "metadata": {},
   "outputs": [
    {
     "data": {
      "text/plain": [
       "'\"ISODate(\\'1927-09-05\\')\"'"
      ]
     },
     "execution_count": 6,
     "metadata": {},
     "output_type": "execute_result"
    }
   ],
   "source": [
    "m.group(0)"
   ]
  },
  {
   "cell_type": "code",
   "execution_count": 7,
   "metadata": {},
   "outputs": [
    {
     "data": {
      "text/plain": [
       "'{\"date_1\": \"ISODate(\\'1927-09-05\\')\", \"date_2\": \"ISODate(\\'1977-10-19\\')\", \"date_3\": \"ISODate(\\'1970-03-02\\')\", \"date_4\": \"ISODate(\\'1937-11-25\\')\", \"date_5\": \"ISODate(\\'1969-01-28\\')\", \"date_6\": \"ISODate(\\'1942-02-12\\')\", \"date_7\": \"ISODate(\\'1995-08-18\\')\", \"date_8\": \"ISODate(\\'1965-10-28\\')\", \"date_9\": \"ISODate(\\'1916-11-14\\')\"}'"
      ]
     },
     "execution_count": 7,
     "metadata": {},
     "output_type": "execute_result"
    }
   ],
   "source": [
    "j"
   ]
  },
  {
   "cell_type": "code",
   "execution_count": 8,
   "metadata": {},
   "outputs": [
    {
     "data": {
      "text/plain": [
       "NoneType"
      ]
     },
     "execution_count": 8,
     "metadata": {},
     "output_type": "execute_result"
    }
   ],
   "source": [
    "x = re.match(pattern, j)\n",
    "type(x)"
   ]
  },
  {
   "cell_type": "code",
   "execution_count": 9,
   "metadata": {},
   "outputs": [
    {
     "ename": "TypeError",
     "evalue": "sub() missing 2 required positional arguments: 'repl' and 'string'",
     "output_type": "error",
     "traceback": [
      "\u001b[0;31m---------------------------------------------------------------------------\u001b[0m",
      "\u001b[0;31mTypeError\u001b[0m                                 Traceback (most recent call last)",
      "\u001b[0;32m/var/folders/bv/c7z8c75x4fzfwtv_ch3gw2s80000gn/T/ipykernel_14313/2180158530.py\u001b[0m in \u001b[0;36m<module>\u001b[0;34m\u001b[0m\n\u001b[0;32m----> 1\u001b[0;31m \u001b[0mre\u001b[0m\u001b[0;34m.\u001b[0m\u001b[0msub\u001b[0m\u001b[0;34m(\u001b[0m\u001b[0mreToken\u001b[0m\u001b[0;34m,\u001b[0m\u001b[0;34m)\u001b[0m\u001b[0;34m\u001b[0m\u001b[0;34m\u001b[0m\u001b[0m\n\u001b[0m",
      "\u001b[0;31mTypeError\u001b[0m: sub() missing 2 required positional arguments: 'repl' and 'string'"
     ]
    }
   ],
   "source": [
    "re.sub(reToken,)"
   ]
  },
  {
   "cell_type": "code",
   "execution_count": 10,
   "metadata": {},
   "outputs": [
    {
     "data": {
      "text/plain": [
       "'{\"date_1\": \"ISODate(\\'1927-09-05\\')\", \"date_2\": \"ISODate(\\'1977-10-19\\')\", \"date_3\": \"ISODate(\\'1970-03-02\\')\", \"date_4\": \"ISODate(\\'1937-11-25\\')\", \"date_5\": \"ISODate(\\'1969-01-28\\')\", \"date_6\": \"ISODate(\\'1942-02-12\\')\", \"date_7\": \"ISODate(\\'1995-08-18\\')\", \"date_8\": \"ISODate(\\'1965-10-28\\')\", \"date_9\": \"ISODate(\\'1916-11-14\\')\"}'"
      ]
     },
     "execution_count": 10,
     "metadata": {},
     "output_type": "execute_result"
    }
   ],
   "source": [
    "str(j)\n"
   ]
  },
  {
   "cell_type": "code",
   "execution_count": 13,
   "metadata": {},
   "outputs": [],
   "source": [
    "j2 = j"
   ]
  },
  {
   "cell_type": "code",
   "execution_count": 14,
   "metadata": {},
   "outputs": [
    {
     "name": "stdout",
     "output_type": "stream",
     "text": [
      "{\"date_1\": \"ISODate('1927-09-05')\", \"date_2\": \"ISODate('1977-10-19')\", \"date_3\": \"ISODate('1970-03-02')\", \"date_4\": \"ISODate('1937-11-25')\", \"date_5\": \"ISODate('1969-01-28')\", \"date_6\": \"ISODate('1942-02-12')\", \"date_7\": \"ISODate('1995-08-18')\", \"date_8\": \"ISODate('1965-10-28')\", \"date_9\": \"ISODate('1916-11-14')\"}\n",
      "Found \"ISODate('1927-09-05')\"\n",
      "Found \"ISODate('1977-10-19')\"\n",
      "Found \"ISODate('1970-03-02')\"\n",
      "Found \"ISODate('1937-11-25')\"\n",
      "Found \"ISODate('1969-01-28')\"\n",
      "Found \"ISODate('1942-02-12')\"\n",
      "Found \"ISODate('1995-08-18')\"\n",
      "Found \"ISODate('1965-10-28')\"\n",
      "Found \"ISODate('1916-11-14')\"\n"
     ]
    },
    {
     "data": {
      "text/plain": [
       "'{\"date_1\": ISODate(\\'1927-09-05\\'), \"date_2\": ISODate(\\'1977-10-19\\'), \"date_3\": ISODate(\\'1970-03-02\\'), \"date_4\": ISODate(\\'1937-11-25\\'), \"date_5\": ISODate(\\'1969-01-28\\'), \"date_6\": ISODate(\\'1942-02-12\\'), \"date_7\": ISODate(\\'1995-08-18\\'), \"date_8\": ISODate(\\'1965-10-28\\'), \"date_9\": ISODate(\\'1916-11-14\\')}'"
      ]
     },
     "execution_count": 14,
     "metadata": {},
     "output_type": "execute_result"
    }
   ],
   "source": [
    "from time import sleep\n",
    "print(j2)\n",
    "while True:\n",
    "    m = re.search(reToken, j2)\n",
    "    if m:\n",
    "        print(\"Found\", m.group(0))\n",
    "        j2 = j2.replace(m.group(0), m.group(0).replace('\"',''))\n",
    "    else:\n",
    "        break\n",
    "    # sleep(1)\n",
    "j2"
   ]
  },
  {
   "cell_type": "code",
   "execution_count": 15,
   "metadata": {},
   "outputs": [],
   "source": [
    "f = open(\"dump.txt\", \"w\")\n",
    "f.write(j2)\n",
    "f.close()"
   ]
  },
  {
   "cell_type": "code",
   "execution_count": null,
   "metadata": {},
   "outputs": [],
   "source": []
  }
 ],
 "metadata": {
  "interpreter": {
   "hash": "aee8b7b246df8f9039afb4144a1f6fd8d2ca17a180786b69acc140d282b71a49"
  },
  "kernelspec": {
   "display_name": "Python 3.10.0 64-bit",
   "language": "python",
   "name": "python3"
  },
  "language_info": {
   "codemirror_mode": {
    "name": "ipython",
    "version": 3
   },
   "file_extension": ".py",
   "mimetype": "text/x-python",
   "name": "python",
   "nbconvert_exporter": "python",
   "pygments_lexer": "ipython3",
   "version": "3.10.0"
  },
  "orig_nbformat": 4
 },
 "nbformat": 4,
 "nbformat_minor": 2
}
